{
 "cells": [
  {
   "cell_type": "markdown",
   "id": "ff9e3136",
   "metadata": {},
   "source": [
    "Some plain text in markdown with new updates"
   ]
  },
  {
   "cell_type": "code",
   "execution_count": null,
   "id": "9242d6c1",
   "metadata": {},
   "outputs": [],
   "source": [
    "print(\"hello world again\")"
   ]
  },
  {
   "cell_type": "code",
   "execution_count": null,
   "id": "36eb1fdf",
   "metadata": {},
   "outputs": [],
   "source": [
    "print(\"hello world\")"
   ]
  }
 ],
 "metadata": {
  "colab": {
   "name": "Latest Notebook"
  },
  "kernelspec": {
   "display_name": "Python 3",
   "language": "python",
   "name": "python3"
  },
  "language_info": {
   "name": "python"
  }
 },
 "nbformat": 4,
 "nbformat_minor": 5
}