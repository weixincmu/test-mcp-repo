{
 "cells": [
  {
   "cell_type": "markdown",
   "metadata": {},
   "source": [
    "Some plain text in markdown"
   ]
  },
  {
   "cell_type": "code",
   "execution_count": null,
   "id": "a5acd760",
   "metadata": {},
   "outputs": [
    {
     "name": "stdout",
     "output_type": "stream",
     "text": [
      "hello world again\n"
     ]
    }
   ],
   "source": [
    "print(\"hello world again\")"
   ]
  },
  {
   "cell_type": "code",
   "execution_count": null,
   "id": "4bbcf398",
   "metadata": {},
   "outputs": [
    {
     "name": "stdout",
     "output_type": "stream",
     "text": [
      "hello world\n"
     ]
    }
   ],
   "source": [
    "print(\"hello world\")"
   ]
  }
 ],
 "metadata": {
  "colab": {
   "name": "Latest Notebook"
  },
  "kernelspec": {
   "display_name": "Python 3",
   "language": "python",
   "name": "python3"
  },
  "language_info": {
   "name": "python"
  }
 },
 "nbformat": 4,
 "nbformat_minor": 5
}
